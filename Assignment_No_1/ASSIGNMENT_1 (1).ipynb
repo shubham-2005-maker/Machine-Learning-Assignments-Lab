{
 "cells": [
  {
   "cell_type": "markdown",
   "id": "32f11ef8-10b7-45cc-a9f2-1d963739e954",
   "metadata": {},
   "source": [
    "## Shubham Jadhav                                     \n",
    "## ROLL: 282027\n",
    "\n",
    "\n",
    "\n",
    "1.Perform the following operations using R/Python on suitable data sets: \n",
    "a) read data from different formats (like csv, xls) \n",
    "b) Find Shape of Data \n",
    "c) Find Missing Values \n",
    "d) Find data type of each column \n",
    "e) Finding out Zero's \n",
    "f) Indexing and selecting data, sort data,  \n",
    "g) Describe attributes of data, checking data types of each column,  \n",
    "h) counting unique values of data, format of each column, converting variable data type (e.g. \n",
    "from long to short, vice versa) "
   ]
  },
  {
   "cell_type": "markdown",
   "id": "7c83b341-1fc6-4239-a277-1f032aaa65e2",
   "metadata": {},
   "source": [
    "## Importing required libraries"
   ]
  },
  {
   "cell_type": "code",
   "execution_count": null,
   "id": "550b2209-50ab-4439-aa07-7a1d6d86af95",
   "metadata": {},
   "outputs": [],
   "source": [
    "# Importing required libraries\n",
    "import pandas as pd\n",
    "import numpy as np"
   ]
  },
  {
   "cell_type": "markdown",
   "id": "58f562c9-65ae-451c-9d6e-553a44052d70",
   "metadata": {},
   "source": [
    "## A) Reading data from a CSV file "
   ]
  },
  {
   "cell_type": "code",
   "execution_count": 67,
   "id": "f2ee9384-2d2b-432c-b8ab-29d9c6b1fe2d",
   "metadata": {},
   "outputs": [],
   "source": [
    "# A) Reading data from a CSV file \n",
    "data = pd.read_csv(\"D:\\\\ML Lab Class\\\\wine-clustering - wine-clustering.csv\")"
   ]
  },
  {
   "cell_type": "markdown",
   "id": "308be00c-a22a-49ce-a685-65db5c37b5bd",
   "metadata": {},
   "source": [
    "## Displaying the first few rows of the dataset"
   ]
  },
  {
   "cell_type": "code",
   "execution_count": 69,
   "id": "7a633cb5-9400-44d3-8f33-392dfa26304b",
   "metadata": {},
   "outputs": [
    {
     "name": "stdout",
     "output_type": "stream",
     "text": [
      "Dataset Preview:\n",
      "   Alcohol  Malic_Acid   Ash  Ash_Alcanity  Magnesium  Total_Phenols  \\\n",
      "0    14.23        1.71  2.43          15.6        127           2.80   \n",
      "1    13.20        1.78  2.14          11.2        100           2.65   \n",
      "2    13.16        2.36  2.67          18.6        101           2.80   \n",
      "3    14.37        1.95  2.50          16.8        113           3.85   \n",
      "4    13.24        2.59  2.87          21.0        118           2.80   \n",
      "\n",
      "   Flavanoids  Nonflavanoid_Phenols  Proanthocyanins  Color_Intensity   Hue  \\\n",
      "0        3.06                  0.28             2.29             5.64  1.04   \n",
      "1        2.76                  0.26             1.28             4.38  1.05   \n",
      "2        3.24                  0.30             2.81             5.68  1.03   \n",
      "3        3.49                  0.24             2.18             7.80  0.86   \n",
      "4        2.69                  0.39             1.82             4.32  1.04   \n",
      "\n",
      "   OD280  Proline  \n",
      "0   3.92     1065  \n",
      "1   3.40     1050  \n",
      "2   3.17     1185  \n",
      "3   3.45     1480  \n",
      "4   2.93      735  \n"
     ]
    }
   ],
   "source": [
    "# Displaying the first few rows of the dataset\n",
    "print(\"Dataset Preview:\")\n",
    "print(data.head())"
   ]
  },
  {
   "cell_type": "markdown",
   "id": "04e194ed-8d93-4bea-8d81-435358e3c5df",
   "metadata": {},
   "source": [
    "## B) Finding the shape of the data"
   ]
  },
  {
   "cell_type": "code",
   "execution_count": 71,
   "id": "f95825bb-1b5c-4ee4-9af9-33bbfe371e45",
   "metadata": {},
   "outputs": [
    {
     "name": "stdout",
     "output_type": "stream",
     "text": [
      "Shape of the Data (Rows, Columns):\n",
      "(178, 13)\n"
     ]
    }
   ],
   "source": [
    "# B) Finding the shape of the data\n",
    "print(\"Shape of the Data (Rows, Columns):\")\n",
    "print(data.shape)"
   ]
  },
  {
   "cell_type": "markdown",
   "id": "54f0d46b-010b-49e9-a9f9-6b263cad68e2",
   "metadata": {},
   "source": [
    "## C) Checking for missing values in the dataset"
   ]
  },
  {
   "cell_type": "code",
   "execution_count": 73,
   "id": "eec28e18-2501-4750-b52e-bd973336e51d",
   "metadata": {},
   "outputs": [
    {
     "name": "stdout",
     "output_type": "stream",
     "text": [
      "Missing Values in Each Column:\n",
      "Alcohol                 0\n",
      "Malic_Acid              0\n",
      "Ash                     0\n",
      "Ash_Alcanity            0\n",
      "Magnesium               0\n",
      "Total_Phenols           0\n",
      "Flavanoids              0\n",
      "Nonflavanoid_Phenols    0\n",
      "Proanthocyanins         0\n",
      "Color_Intensity         0\n",
      "Hue                     0\n",
      "OD280                   0\n",
      "Proline                 0\n",
      "dtype: int64\n"
     ]
    }
   ],
   "source": [
    "# C) Checking for missing values in the dataset\n",
    "print(\"Missing Values in Each Column:\")\n",
    "print(data.isnull().sum())"
   ]
  },
  {
   "cell_type": "markdown",
   "id": "4635a99b-2464-4d10-90be-6f66e41b7e90",
   "metadata": {},
   "source": [
    "## D) Displaying data types of each column"
   ]
  },
  {
   "cell_type": "code",
   "execution_count": 75,
   "id": "d11e1d5f-b72c-4767-9fd9-81f910258f33",
   "metadata": {},
   "outputs": [
    {
     "name": "stdout",
     "output_type": "stream",
     "text": [
      "Data Types of Each Column:\n",
      "Alcohol                 float64\n",
      "Malic_Acid              float64\n",
      "Ash                     float64\n",
      "Ash_Alcanity            float64\n",
      "Magnesium                 int64\n",
      "Total_Phenols           float64\n",
      "Flavanoids              float64\n",
      "Nonflavanoid_Phenols    float64\n",
      "Proanthocyanins         float64\n",
      "Color_Intensity         float64\n",
      "Hue                     float64\n",
      "OD280                   float64\n",
      "Proline                   int64\n",
      "dtype: object\n"
     ]
    }
   ],
   "source": [
    "# D) Displaying data types of each column\n",
    "print(\"Data Types of Each Column:\")\n",
    "print(data.dtypes)\n"
   ]
  },
  {
   "cell_type": "markdown",
   "id": "e1abb4dd-25cc-4a99-a96c-fc4fd84f9f5e",
   "metadata": {},
   "source": [
    "## E) Finding the count of zeros in each numeric column"
   ]
  },
  {
   "cell_type": "code",
   "execution_count": 77,
   "id": "21badbbe-a147-4d11-a67b-8242c91e3d52",
   "metadata": {},
   "outputs": [
    {
     "name": "stdout",
     "output_type": "stream",
     "text": [
      "Number of Zeros in Each Numeric Column:\n",
      "Alcohol                 0\n",
      "Malic_Acid              0\n",
      "Ash                     0\n",
      "Ash_Alcanity            0\n",
      "Magnesium               0\n",
      "Total_Phenols           0\n",
      "Flavanoids              0\n",
      "Nonflavanoid_Phenols    0\n",
      "Proanthocyanins         0\n",
      "Color_Intensity         0\n",
      "Hue                     0\n",
      "OD280                   0\n",
      "Proline                 0\n",
      "dtype: int64\n"
     ]
    }
   ],
   "source": [
    "# E) Finding the count of zeros in each numeric column\n",
    "numeric_columns = data.select_dtypes(include=[np.number])  \n",
    "zeros_count = (numeric_columns == 0).sum()\n",
    "\n",
    "print(\"Number of Zeros in Each Numeric Column:\")\n",
    "print(zeros_count)"
   ]
  },
  {
   "cell_type": "markdown",
   "id": "a539c398-2254-4b83-a028-a50520158c46",
   "metadata": {},
   "source": [
    "## F) Indexing and selecting specific columns"
   ]
  },
  {
   "cell_type": "code",
   "execution_count": null,
   "id": "fbde2bba-f3d2-4c75-9271-d34768692cca",
   "metadata": {},
   "outputs": [],
   "source": [
    "# F) Indexing and selecting specific columns\n",
    "selected_columns = data[['Alcohol', 'Ash']]  \n",
    "print(\"Selected Columns:\")\n",
    "print(selected_columns.head())"
   ]
  },
  {
   "cell_type": "markdown",
   "id": "83ca9025-beee-480b-a68b-127c3a02c876",
   "metadata": {},
   "source": [
    "## Sorting data by a specific column\n"
   ]
  },
  {
   "cell_type": "code",
   "execution_count": 81,
   "id": "b9fa4601-af1d-49d0-a0ef-8687c8ba4c1b",
   "metadata": {},
   "outputs": [
    {
     "name": "stdout",
     "output_type": "stream",
     "text": [
      "Data Sorted by 'Alcohol':\n",
      "     Alcohol  Malic_Acid   Ash  Ash_Alcanity  Magnesium  Total_Phenols  \\\n",
      "115    11.03        1.51  2.20          21.5         85           2.46   \n",
      "113    11.41        0.74  2.50          21.0         88           2.48   \n",
      "120    11.45        2.40  2.42          20.0         96           2.90   \n",
      "110    11.46        3.74  1.82          19.5        107           3.18   \n",
      "121    11.56        2.05  3.23          28.5        119           3.18   \n",
      "\n",
      "     Flavanoids  Nonflavanoid_Phenols  Proanthocyanins  Color_Intensity   Hue  \\\n",
      "115        2.17                  0.52             2.01             1.90  1.71   \n",
      "113        2.01                  0.42             1.44             3.08  1.10   \n",
      "120        2.79                  0.32             1.83             3.25  0.80   \n",
      "110        2.58                  0.24             3.58             2.90  0.75   \n",
      "121        5.08                  0.47             1.87             6.00  0.93   \n",
      "\n",
      "     OD280  Proline  \n",
      "115   2.87      407  \n",
      "113   2.31      434  \n",
      "120   3.39      625  \n",
      "110   2.81      562  \n",
      "121   3.69      465  \n"
     ]
    }
   ],
   "source": [
    "# Sorting data by a specific column\n",
    "sorted_data = data.sort_values(by='Alcohol')  # Replace 'Column1' with the column you want to sort by\n",
    "print(\"Data Sorted by 'Alcohol':\")\n",
    "print(sorted_data.head())"
   ]
  },
  {
   "cell_type": "markdown",
   "id": "ef1cb0ae-447c-40ed-86f7-b2e61ea5fe20",
   "metadata": {},
   "source": [
    "## G) Describing the data attributes"
   ]
  },
  {
   "cell_type": "code",
   "execution_count": null,
   "id": "be098f6f-0c2e-474f-bec7-4d6bf1717349",
   "metadata": {},
   "outputs": [],
   "source": [
    "# G) Describing the data attributes\n",
    "print(\"Statistical Description of Numeric Data:\")\n",
    "print(data.describe())\n",
    "\n",
    "# Checking data types again for confirmation\n",
    "print(\"\\nData Types of Each Column:\")\n",
    "print(data.dtypes)"
   ]
  },
  {
   "cell_type": "markdown",
   "id": "a0ecea9b-75ad-436a-b109-e6861ced735d",
   "metadata": {},
   "source": [
    "## H) Counting unique values in each column"
   ]
  },
  {
   "cell_type": "code",
   "execution_count": null,
   "id": "5667c99d-4031-4e50-92cb-f89f141bbba8",
   "metadata": {},
   "outputs": [],
   "source": [
    "# H) Counting unique values in each column\n",
    "print(\"Count of Unique Values in Each Column:\")\n",
    "print(data.nunique())\n",
    "\n",
    "# Displaying the format (data types) of each column in the dataset\n",
    "print(\"\\nFormat of columns : \")\n",
    "print(data.dtypes)\n",
    "\n",
    "# Converting variable data type (example: from float to int)\n",
    "data['Magnesium'] = data['Magnesium'].astype(int)  # Replace 'NumericColumn' with an actual numeric column name\n",
    "print(\"\\nData Types After Conversion:\")\n",
    "print(data.dtypes)"
   ]
  },
  {
   "cell_type": "code",
   "execution_count": null,
   "id": "38e5db32-a730-4e87-92a3-6ce6e9653909",
   "metadata": {},
   "outputs": [],
   "source": []
  }
 ],
 "metadata": {
  "kernelspec": {
   "display_name": "Python 3 (ipykernel)",
   "language": "python",
   "name": "python3"
  },
  "language_info": {
   "codemirror_mode": {
    "name": "ipython",
    "version": 3
   },
   "file_extension": ".py",
   "mimetype": "text/x-python",
   "name": "python",
   "nbconvert_exporter": "python",
   "pygments_lexer": "ipython3",
   "version": "3.12.4"
  }
 },
 "nbformat": 4,
 "nbformat_minor": 5
}
